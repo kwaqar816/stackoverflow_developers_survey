{
 "cells": [
  {
   "cell_type": "code",
   "execution_count": 1,
   "id": "8f0366c4",
   "metadata": {},
   "outputs": [],
   "source": [
    "import pandas as pd\n"
   ]
  },
  {
   "cell_type": "markdown",
   "id": "5b1616b8",
   "metadata": {},
   "source": [
    "\n"
   ]
  },
  {
   "cell_type": "code",
   "execution_count": null,
   "id": "2a06a2e7",
   "metadata": {},
   "outputs": [],
   "source": []
  },
  {
   "cell_type": "code",
   "execution_count": 2,
   "id": "ff338013",
   "metadata": {},
   "outputs": [],
   "source": [
    "data = {'Roll No':[1,2,3,4,5] ,\n",
    "        'Name':['Khan Waqar','Adil Azad','Pratik Chand','Gaikar Rohit','Tejas Kadu'] ,\n",
    "        'Marks':[78,70,79,78,75],\n",
    "        'Address':['Seawoods','Khopoli','Kalamboli','Kamothe','Wadala'] }"
   ]
  },
  {
   "cell_type": "code",
   "execution_count": 3,
   "id": "a4c8aba6",
   "metadata": {},
   "outputs": [],
   "source": [
    "df = pd.DataFrame(data)"
   ]
  },
  {
   "cell_type": "code",
   "execution_count": 4,
   "id": "a37805a4",
   "metadata": {},
   "outputs": [
    {
     "data": {
      "text/html": [
       "<div>\n",
       "<style scoped>\n",
       "    .dataframe tbody tr th:only-of-type {\n",
       "        vertical-align: middle;\n",
       "    }\n",
       "\n",
       "    .dataframe tbody tr th {\n",
       "        vertical-align: top;\n",
       "    }\n",
       "\n",
       "    .dataframe thead th {\n",
       "        text-align: right;\n",
       "    }\n",
       "</style>\n",
       "<table border=\"1\" class=\"dataframe\">\n",
       "  <thead>\n",
       "    <tr style=\"text-align: right;\">\n",
       "      <th></th>\n",
       "      <th>Roll No</th>\n",
       "      <th>Name</th>\n",
       "      <th>Marks</th>\n",
       "      <th>Address</th>\n",
       "    </tr>\n",
       "  </thead>\n",
       "  <tbody>\n",
       "    <tr>\n",
       "      <th>0</th>\n",
       "      <td>1</td>\n",
       "      <td>Khan Waqar</td>\n",
       "      <td>78</td>\n",
       "      <td>Seawoods</td>\n",
       "    </tr>\n",
       "    <tr>\n",
       "      <th>1</th>\n",
       "      <td>2</td>\n",
       "      <td>Adil Azad</td>\n",
       "      <td>70</td>\n",
       "      <td>Khopoli</td>\n",
       "    </tr>\n",
       "    <tr>\n",
       "      <th>2</th>\n",
       "      <td>3</td>\n",
       "      <td>Pratik Chand</td>\n",
       "      <td>79</td>\n",
       "      <td>Kalamboli</td>\n",
       "    </tr>\n",
       "    <tr>\n",
       "      <th>3</th>\n",
       "      <td>4</td>\n",
       "      <td>Gaikar Rohit</td>\n",
       "      <td>78</td>\n",
       "      <td>Kamothe</td>\n",
       "    </tr>\n",
       "    <tr>\n",
       "      <th>4</th>\n",
       "      <td>5</td>\n",
       "      <td>Tejas Kadu</td>\n",
       "      <td>75</td>\n",
       "      <td>Wadala</td>\n",
       "    </tr>\n",
       "  </tbody>\n",
       "</table>\n",
       "</div>"
      ],
      "text/plain": [
       "   Roll No          Name  Marks    Address\n",
       "0        1    Khan Waqar     78   Seawoods\n",
       "1        2     Adil Azad     70    Khopoli\n",
       "2        3  Pratik Chand     79  Kalamboli\n",
       "3        4  Gaikar Rohit     78    Kamothe\n",
       "4        5    Tejas Kadu     75     Wadala"
      ]
     },
     "execution_count": 4,
     "metadata": {},
     "output_type": "execute_result"
    }
   ],
   "source": [
    "df"
   ]
  },
  {
   "cell_type": "code",
   "execution_count": 5,
   "id": "23ed7a3f",
   "metadata": {},
   "outputs": [
    {
     "data": {
      "text/html": [
       "<div>\n",
       "<style scoped>\n",
       "    .dataframe tbody tr th:only-of-type {\n",
       "        vertical-align: middle;\n",
       "    }\n",
       "\n",
       "    .dataframe tbody tr th {\n",
       "        vertical-align: top;\n",
       "    }\n",
       "\n",
       "    .dataframe thead th {\n",
       "        text-align: right;\n",
       "    }\n",
       "</style>\n",
       "<table border=\"1\" class=\"dataframe\">\n",
       "  <thead>\n",
       "    <tr style=\"text-align: right;\">\n",
       "      <th></th>\n",
       "      <th>0</th>\n",
       "      <th>1</th>\n",
       "    </tr>\n",
       "  </thead>\n",
       "  <tbody>\n",
       "    <tr>\n",
       "      <th>0</th>\n",
       "      <td>Khan</td>\n",
       "      <td>Waqar</td>\n",
       "    </tr>\n",
       "    <tr>\n",
       "      <th>1</th>\n",
       "      <td>Adil</td>\n",
       "      <td>Azad</td>\n",
       "    </tr>\n",
       "    <tr>\n",
       "      <th>2</th>\n",
       "      <td>Pratik</td>\n",
       "      <td>Chand</td>\n",
       "    </tr>\n",
       "    <tr>\n",
       "      <th>3</th>\n",
       "      <td>Gaikar</td>\n",
       "      <td>Rohit</td>\n",
       "    </tr>\n",
       "    <tr>\n",
       "      <th>4</th>\n",
       "      <td>Tejas</td>\n",
       "      <td>Kadu</td>\n",
       "    </tr>\n",
       "  </tbody>\n",
       "</table>\n",
       "</div>"
      ],
      "text/plain": [
       "        0      1\n",
       "0    Khan  Waqar\n",
       "1    Adil   Azad\n",
       "2  Pratik  Chand\n",
       "3  Gaikar  Rohit\n",
       "4   Tejas   Kadu"
      ]
     },
     "execution_count": 5,
     "metadata": {},
     "output_type": "execute_result"
    }
   ],
   "source": [
    "df['Name'].str.split(' ' , expand=True)\n"
   ]
  },
  {
   "cell_type": "code",
   "execution_count": 6,
   "id": "782bdad5",
   "metadata": {},
   "outputs": [],
   "source": [
    "df[['Sir Name' , 'First Name']] = df['Name'].str.split(' ' , expand=True)"
   ]
  },
  {
   "cell_type": "code",
   "execution_count": 7,
   "id": "953d91ea",
   "metadata": {},
   "outputs": [
    {
     "data": {
      "text/html": [
       "<div>\n",
       "<style scoped>\n",
       "    .dataframe tbody tr th:only-of-type {\n",
       "        vertical-align: middle;\n",
       "    }\n",
       "\n",
       "    .dataframe tbody tr th {\n",
       "        vertical-align: top;\n",
       "    }\n",
       "\n",
       "    .dataframe thead th {\n",
       "        text-align: right;\n",
       "    }\n",
       "</style>\n",
       "<table border=\"1\" class=\"dataframe\">\n",
       "  <thead>\n",
       "    <tr style=\"text-align: right;\">\n",
       "      <th></th>\n",
       "      <th>Roll No</th>\n",
       "      <th>Name</th>\n",
       "      <th>Marks</th>\n",
       "      <th>Address</th>\n",
       "      <th>Sir Name</th>\n",
       "      <th>First Name</th>\n",
       "    </tr>\n",
       "  </thead>\n",
       "  <tbody>\n",
       "    <tr>\n",
       "      <th>0</th>\n",
       "      <td>1</td>\n",
       "      <td>Khan Waqar</td>\n",
       "      <td>78</td>\n",
       "      <td>Seawoods</td>\n",
       "      <td>Khan</td>\n",
       "      <td>Waqar</td>\n",
       "    </tr>\n",
       "    <tr>\n",
       "      <th>1</th>\n",
       "      <td>2</td>\n",
       "      <td>Adil Azad</td>\n",
       "      <td>70</td>\n",
       "      <td>Khopoli</td>\n",
       "      <td>Adil</td>\n",
       "      <td>Azad</td>\n",
       "    </tr>\n",
       "    <tr>\n",
       "      <th>2</th>\n",
       "      <td>3</td>\n",
       "      <td>Pratik Chand</td>\n",
       "      <td>79</td>\n",
       "      <td>Kalamboli</td>\n",
       "      <td>Pratik</td>\n",
       "      <td>Chand</td>\n",
       "    </tr>\n",
       "    <tr>\n",
       "      <th>3</th>\n",
       "      <td>4</td>\n",
       "      <td>Gaikar Rohit</td>\n",
       "      <td>78</td>\n",
       "      <td>Kamothe</td>\n",
       "      <td>Gaikar</td>\n",
       "      <td>Rohit</td>\n",
       "    </tr>\n",
       "    <tr>\n",
       "      <th>4</th>\n",
       "      <td>5</td>\n",
       "      <td>Tejas Kadu</td>\n",
       "      <td>75</td>\n",
       "      <td>Wadala</td>\n",
       "      <td>Tejas</td>\n",
       "      <td>Kadu</td>\n",
       "    </tr>\n",
       "  </tbody>\n",
       "</table>\n",
       "</div>"
      ],
      "text/plain": [
       "   Roll No          Name  Marks    Address Sir Name First Name\n",
       "0        1    Khan Waqar     78   Seawoods     Khan      Waqar\n",
       "1        2     Adil Azad     70    Khopoli     Adil       Azad\n",
       "2        3  Pratik Chand     79  Kalamboli   Pratik      Chand\n",
       "3        4  Gaikar Rohit     78    Kamothe   Gaikar      Rohit\n",
       "4        5    Tejas Kadu     75     Wadala    Tejas       Kadu"
      ]
     },
     "execution_count": 7,
     "metadata": {},
     "output_type": "execute_result"
    }
   ],
   "source": [
    "df"
   ]
  },
  {
   "cell_type": "code",
   "execution_count": 8,
   "id": "9712aa0f",
   "metadata": {},
   "outputs": [],
   "source": [
    "Email = ['KhanWaqar@phcet.com','AdilAzad@mes.com','PratikChand@phcet.com','GaikarRohit@mes.com','TejasKadu@phcet.com']"
   ]
  },
  {
   "cell_type": "code",
   "execution_count": 9,
   "id": "d99cd539",
   "metadata": {},
   "outputs": [],
   "source": [
    "df['Email'] = Email"
   ]
  },
  {
   "cell_type": "code",
   "execution_count": 10,
   "id": "168f233c",
   "metadata": {},
   "outputs": [
    {
     "data": {
      "text/html": [
       "<div>\n",
       "<style scoped>\n",
       "    .dataframe tbody tr th:only-of-type {\n",
       "        vertical-align: middle;\n",
       "    }\n",
       "\n",
       "    .dataframe tbody tr th {\n",
       "        vertical-align: top;\n",
       "    }\n",
       "\n",
       "    .dataframe thead th {\n",
       "        text-align: right;\n",
       "    }\n",
       "</style>\n",
       "<table border=\"1\" class=\"dataframe\">\n",
       "  <thead>\n",
       "    <tr style=\"text-align: right;\">\n",
       "      <th></th>\n",
       "      <th>Roll No</th>\n",
       "      <th>Name</th>\n",
       "      <th>Marks</th>\n",
       "      <th>Address</th>\n",
       "      <th>Sir Name</th>\n",
       "      <th>First Name</th>\n",
       "      <th>Email</th>\n",
       "    </tr>\n",
       "  </thead>\n",
       "  <tbody>\n",
       "    <tr>\n",
       "      <th>0</th>\n",
       "      <td>1</td>\n",
       "      <td>Khan Waqar</td>\n",
       "      <td>78</td>\n",
       "      <td>Seawoods</td>\n",
       "      <td>Khan</td>\n",
       "      <td>Waqar</td>\n",
       "      <td>KhanWaqar@phcet.com</td>\n",
       "    </tr>\n",
       "    <tr>\n",
       "      <th>1</th>\n",
       "      <td>2</td>\n",
       "      <td>Adil Azad</td>\n",
       "      <td>70</td>\n",
       "      <td>Khopoli</td>\n",
       "      <td>Adil</td>\n",
       "      <td>Azad</td>\n",
       "      <td>AdilAzad@mes.com</td>\n",
       "    </tr>\n",
       "    <tr>\n",
       "      <th>2</th>\n",
       "      <td>3</td>\n",
       "      <td>Pratik Chand</td>\n",
       "      <td>79</td>\n",
       "      <td>Kalamboli</td>\n",
       "      <td>Pratik</td>\n",
       "      <td>Chand</td>\n",
       "      <td>PratikChand@phcet.com</td>\n",
       "    </tr>\n",
       "    <tr>\n",
       "      <th>3</th>\n",
       "      <td>4</td>\n",
       "      <td>Gaikar Rohit</td>\n",
       "      <td>78</td>\n",
       "      <td>Kamothe</td>\n",
       "      <td>Gaikar</td>\n",
       "      <td>Rohit</td>\n",
       "      <td>GaikarRohit@mes.com</td>\n",
       "    </tr>\n",
       "    <tr>\n",
       "      <th>4</th>\n",
       "      <td>5</td>\n",
       "      <td>Tejas Kadu</td>\n",
       "      <td>75</td>\n",
       "      <td>Wadala</td>\n",
       "      <td>Tejas</td>\n",
       "      <td>Kadu</td>\n",
       "      <td>TejasKadu@phcet.com</td>\n",
       "    </tr>\n",
       "  </tbody>\n",
       "</table>\n",
       "</div>"
      ],
      "text/plain": [
       "   Roll No          Name  Marks    Address Sir Name First Name  \\\n",
       "0        1    Khan Waqar     78   Seawoods     Khan      Waqar   \n",
       "1        2     Adil Azad     70    Khopoli     Adil       Azad   \n",
       "2        3  Pratik Chand     79  Kalamboli   Pratik      Chand   \n",
       "3        4  Gaikar Rohit     78    Kamothe   Gaikar      Rohit   \n",
       "4        5    Tejas Kadu     75     Wadala    Tejas       Kadu   \n",
       "\n",
       "                   Email  \n",
       "0    KhanWaqar@phcet.com  \n",
       "1       AdilAzad@mes.com  \n",
       "2  PratikChand@phcet.com  \n",
       "3    GaikarRohit@mes.com  \n",
       "4    TejasKadu@phcet.com  "
      ]
     },
     "execution_count": 10,
     "metadata": {},
     "output_type": "execute_result"
    }
   ],
   "source": [
    "df"
   ]
  },
  {
   "cell_type": "code",
   "execution_count": 11,
   "id": "8974ca1b",
   "metadata": {},
   "outputs": [],
   "source": [
    "filt = (df['Name']=='Khan Waqar')"
   ]
  },
  {
   "cell_type": "code",
   "execution_count": 12,
   "id": "1d566177",
   "metadata": {},
   "outputs": [
    {
     "data": {
      "text/plain": [
       "0    KhanWaqar@phcet.com\n",
       "Name: Email, dtype: object"
      ]
     },
     "execution_count": 12,
     "metadata": {},
     "output_type": "execute_result"
    }
   ],
   "source": [
    "df.loc[filt,'Email']"
   ]
  },
  {
   "cell_type": "code",
   "execution_count": null,
   "id": "03823352",
   "metadata": {},
   "outputs": [],
   "source": []
  }
 ],
 "metadata": {
  "kernelspec": {
   "display_name": "Python 3 (ipykernel)",
   "language": "python",
   "name": "python3"
  },
  "language_info": {
   "codemirror_mode": {
    "name": "ipython",
    "version": 3
   },
   "file_extension": ".py",
   "mimetype": "text/x-python",
   "name": "python",
   "nbconvert_exporter": "python",
   "pygments_lexer": "ipython3",
   "version": "3.9.2"
  }
 },
 "nbformat": 4,
 "nbformat_minor": 5
}
